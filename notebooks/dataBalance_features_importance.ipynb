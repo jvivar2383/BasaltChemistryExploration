{
 "cells": [
  {
   "cell_type": "code",
   "execution_count": 1,
   "id": "20a04644-9c3e-486c-878e-67efc4cba0c1",
   "metadata": {},
   "outputs": [],
   "source": [
    "import pandas as pd\n",
    "import seaborn as sns\n",
    "import numpy as np\n",
    "import matplotlib.pyplot as plt"
   ]
  },
  {
   "cell_type": "markdown",
   "id": "11e3004f-c363-4556-b9e2-252d5c75d24f",
   "metadata": {},
   "source": [
    "`Loading both sets of data`"
   ]
  },
  {
   "cell_type": "code",
   "execution_count": 20,
   "id": "c6d6680d-b719-4e37-9175-6ee9e8b07f2c",
   "metadata": {},
   "outputs": [],
   "source": [
    "p_ = r\"/Users/jenifervivar/Documents/GitHub/OceanBasaltML/basalts thesis/src/data/combined_datasets\"\n",
    "combined_df = pd.read_csv(p_)\n",
    "p = \"/Users/jenifervivar/Documents/GitHub/OceanBasaltML/basalts thesis/src/data/variables_target_file\"\n",
    "sampled_df = pd.read_csv(p)\n",
    "col = sampled_df.columns[:-3].values"
   ]
  },
  {
   "cell_type": "code",
   "execution_count": 21,
   "id": "6731d886-d778-41c6-a40c-339f5c57831d",
   "metadata": {},
   "outputs": [
    {
     "data": {
      "text/html": [
       "<div>\n",
       "<style scoped>\n",
       "    .dataframe tbody tr th:only-of-type {\n",
       "        vertical-align: middle;\n",
       "    }\n",
       "\n",
       "    .dataframe tbody tr th {\n",
       "        vertical-align: top;\n",
       "    }\n",
       "\n",
       "    .dataframe thead th {\n",
       "        text-align: right;\n",
       "    }\n",
       "</style>\n",
       "<table border=\"1\" class=\"dataframe\">\n",
       "  <thead>\n",
       "    <tr style=\"text-align: right;\">\n",
       "      <th></th>\n",
       "      <th>SiO2</th>\n",
       "      <th>TiO2</th>\n",
       "      <th>Al2O3</th>\n",
       "      <th>FeOT</th>\n",
       "      <th>MnO</th>\n",
       "      <th>MgO</th>\n",
       "      <th>CaO</th>\n",
       "      <th>Na2O</th>\n",
       "      <th>K2O</th>\n",
       "      <th>P2O5</th>\n",
       "      <th>...</th>\n",
       "      <th>Lu</th>\n",
       "      <th>Hf</th>\n",
       "      <th>Ta</th>\n",
       "      <th>Th</th>\n",
       "      <th>U</th>\n",
       "      <th>Cr</th>\n",
       "      <th>Ni</th>\n",
       "      <th>LATITUDE</th>\n",
       "      <th>LONGITUDE</th>\n",
       "      <th>Tectonic_setting</th>\n",
       "    </tr>\n",
       "  </thead>\n",
       "  <tbody>\n",
       "    <tr>\n",
       "      <th>0</th>\n",
       "      <td>49.840</td>\n",
       "      <td>0.690</td>\n",
       "      <td>19.520</td>\n",
       "      <td>9.58</td>\n",
       "      <td>0.190</td>\n",
       "      <td>5.830</td>\n",
       "      <td>11.810</td>\n",
       "      <td>1.250</td>\n",
       "      <td>0.030</td>\n",
       "      <td>0.030</td>\n",
       "      <td>...</td>\n",
       "      <td>0.210000</td>\n",
       "      <td>0.610000</td>\n",
       "      <td>0.012000</td>\n",
       "      <td>0.080000</td>\n",
       "      <td>0.037000</td>\n",
       "      <td>89.000000</td>\n",
       "      <td>31.800000</td>\n",
       "      <td>43.88000</td>\n",
       "      <td>145.53000</td>\n",
       "      <td>IAB</td>\n",
       "    </tr>\n",
       "    <tr>\n",
       "      <th>1</th>\n",
       "      <td>49.684</td>\n",
       "      <td>1.243</td>\n",
       "      <td>16.292</td>\n",
       "      <td>9.88</td>\n",
       "      <td>0.156</td>\n",
       "      <td>5.446</td>\n",
       "      <td>9.331</td>\n",
       "      <td>2.906</td>\n",
       "      <td>1.368</td>\n",
       "      <td>0.387</td>\n",
       "      <td>...</td>\n",
       "      <td>0.506941</td>\n",
       "      <td>4.048274</td>\n",
       "      <td>0.306222</td>\n",
       "      <td>1.560400</td>\n",
       "      <td>0.995827</td>\n",
       "      <td>162.629578</td>\n",
       "      <td>55.026173</td>\n",
       "      <td>55.82190</td>\n",
       "      <td>160.23630</td>\n",
       "      <td>IAB</td>\n",
       "    </tr>\n",
       "    <tr>\n",
       "      <th>2</th>\n",
       "      <td>50.437</td>\n",
       "      <td>1.328</td>\n",
       "      <td>17.051</td>\n",
       "      <td>9.35</td>\n",
       "      <td>0.136</td>\n",
       "      <td>4.771</td>\n",
       "      <td>9.144</td>\n",
       "      <td>3.202</td>\n",
       "      <td>1.524</td>\n",
       "      <td>0.414</td>\n",
       "      <td>...</td>\n",
       "      <td>0.521601</td>\n",
       "      <td>4.423565</td>\n",
       "      <td>0.344621</td>\n",
       "      <td>1.751808</td>\n",
       "      <td>1.119837</td>\n",
       "      <td>112.968681</td>\n",
       "      <td>47.489128</td>\n",
       "      <td>55.81992</td>\n",
       "      <td>160.39200</td>\n",
       "      <td>IAB</td>\n",
       "    </tr>\n",
       "    <tr>\n",
       "      <th>3</th>\n",
       "      <td>50.880</td>\n",
       "      <td>1.384</td>\n",
       "      <td>16.976</td>\n",
       "      <td>9.69</td>\n",
       "      <td>0.153</td>\n",
       "      <td>4.588</td>\n",
       "      <td>8.533</td>\n",
       "      <td>3.281</td>\n",
       "      <td>1.786</td>\n",
       "      <td>0.482</td>\n",
       "      <td>...</td>\n",
       "      <td>0.565124</td>\n",
       "      <td>4.716979</td>\n",
       "      <td>0.353370</td>\n",
       "      <td>1.869443</td>\n",
       "      <td>1.182308</td>\n",
       "      <td>102.395943</td>\n",
       "      <td>40.964020</td>\n",
       "      <td>55.81042</td>\n",
       "      <td>160.36475</td>\n",
       "      <td>IAB</td>\n",
       "    </tr>\n",
       "    <tr>\n",
       "      <th>4</th>\n",
       "      <td>50.845</td>\n",
       "      <td>1.913</td>\n",
       "      <td>16.231</td>\n",
       "      <td>10.11</td>\n",
       "      <td>0.154</td>\n",
       "      <td>3.535</td>\n",
       "      <td>7.915</td>\n",
       "      <td>3.498</td>\n",
       "      <td>2.180</td>\n",
       "      <td>0.647</td>\n",
       "      <td>...</td>\n",
       "      <td>0.717250</td>\n",
       "      <td>6.677058</td>\n",
       "      <td>0.393347</td>\n",
       "      <td>2.643277</td>\n",
       "      <td>1.661968</td>\n",
       "      <td>28.622011</td>\n",
       "      <td>22.113792</td>\n",
       "      <td>55.81600</td>\n",
       "      <td>160.38636</td>\n",
       "      <td>IAB</td>\n",
       "    </tr>\n",
       "  </tbody>\n",
       "</table>\n",
       "<p>5 rows × 39 columns</p>\n",
       "</div>"
      ],
      "text/plain": [
       "     SiO2   TiO2   Al2O3   FeOT    MnO    MgO     CaO   Na2O    K2O   P2O5  \\\n",
       "0  49.840  0.690  19.520   9.58  0.190  5.830  11.810  1.250  0.030  0.030   \n",
       "1  49.684  1.243  16.292   9.88  0.156  5.446   9.331  2.906  1.368  0.387   \n",
       "2  50.437  1.328  17.051   9.35  0.136  4.771   9.144  3.202  1.524  0.414   \n",
       "3  50.880  1.384  16.976   9.69  0.153  4.588   8.533  3.281  1.786  0.482   \n",
       "4  50.845  1.913  16.231  10.11  0.154  3.535   7.915  3.498  2.180  0.647   \n",
       "\n",
       "   ...        Lu        Hf        Ta        Th         U          Cr  \\\n",
       "0  ...  0.210000  0.610000  0.012000  0.080000  0.037000   89.000000   \n",
       "1  ...  0.506941  4.048274  0.306222  1.560400  0.995827  162.629578   \n",
       "2  ...  0.521601  4.423565  0.344621  1.751808  1.119837  112.968681   \n",
       "3  ...  0.565124  4.716979  0.353370  1.869443  1.182308  102.395943   \n",
       "4  ...  0.717250  6.677058  0.393347  2.643277  1.661968   28.622011   \n",
       "\n",
       "          Ni  LATITUDE  LONGITUDE  Tectonic_setting  \n",
       "0  31.800000  43.88000  145.53000               IAB  \n",
       "1  55.026173  55.82190  160.23630               IAB  \n",
       "2  47.489128  55.81992  160.39200               IAB  \n",
       "3  40.964020  55.81042  160.36475               IAB  \n",
       "4  22.113792  55.81600  160.38636               IAB  \n",
       "\n",
       "[5 rows x 39 columns]"
      ]
     },
     "execution_count": 21,
     "metadata": {},
     "output_type": "execute_result"
    }
   ],
   "source": [
    "sampled_df.head()"
   ]
  },
  {
   "cell_type": "code",
   "execution_count": 22,
   "id": "6e85c90d-941b-4cb1-98b9-0f9cb588e767",
   "metadata": {},
   "outputs": [
    {
     "data": {
      "text/plain": [
       "6368"
      ]
     },
     "execution_count": 22,
     "metadata": {},
     "output_type": "execute_result"
    }
   ],
   "source": [
    "len(sampled_df[\"Tectonic_setting\"])"
   ]
  },
  {
   "cell_type": "code",
   "execution_count": 23,
   "id": "4296bf0d-b40f-4dc2-ac12-ce82c567b0d0",
   "metadata": {},
   "outputs": [
    {
     "name": "stdout",
     "output_type": "stream",
     "text": [
      "[[1. 0. 0.]\n",
      " [1. 0. 0.]\n",
      " [1. 0. 0.]\n",
      " ...\n",
      " [0. 1. 0.]\n",
      " [0. 1. 0.]\n",
      " [0. 1. 0.]]\n"
     ]
    }
   ],
   "source": [
    "from sklearn.preprocessing import OneHotEncoder\n",
    "from sklearn.preprocessing import LabelEncoder\n",
    "label_encoder = LabelEncoder()\n",
    "\n",
    "\n",
    "binary_val = label_encoder.fit_transform(sampled_df[\"Tectonic_setting\"])\n",
    "onehot_encoder = OneHotEncoder(sparse=False)\n",
    "integer_encoded = binary_val.reshape(len(binary_val), 1)\n",
    "onehot_encoded = onehot_encoder.fit_transform(integer_encoded)\n",
    "print(onehot_encoded)"
   ]
  },
  {
   "cell_type": "code",
   "execution_count": 18,
   "id": "9a5258ed-d292-4573-9faf-a21797d4bcd4",
   "metadata": {},
   "outputs": [
    {
     "data": {
      "text/plain": [
       "array([[0., 1.],\n",
       "       [0., 1.],\n",
       "       [0., 1.],\n",
       "       ...,\n",
       "       [1., 0.],\n",
       "       [1., 0.],\n",
       "       [1., 0.]])"
      ]
     },
     "execution_count": 18,
     "metadata": {},
     "output_type": "execute_result"
    }
   ],
   "source": [
    "onehot_encoded = np.array(onehot_encoded)\n",
    "onehot_encoded"
   ]
  },
  {
   "cell_type": "code",
   "execution_count": 12,
   "id": "557146f4-4f3f-4cc0-8910-f3619ff9aeb4",
   "metadata": {},
   "outputs": [
    {
     "data": {
      "text/plain": [
       "6368"
      ]
     },
     "execution_count": 12,
     "metadata": {},
     "output_type": "execute_result"
    }
   ],
   "source": [
    "len(onehot_encoded)"
   ]
  },
  {
   "cell_type": "code",
   "execution_count": 13,
   "id": "f83a9ac3-3945-48cb-bede-a39a1a211c99",
   "metadata": {},
   "outputs": [
    {
     "data": {
      "text/html": [
       "<div>\n",
       "<style scoped>\n",
       "    .dataframe tbody tr th:only-of-type {\n",
       "        vertical-align: middle;\n",
       "    }\n",
       "\n",
       "    .dataframe tbody tr th {\n",
       "        vertical-align: top;\n",
       "    }\n",
       "\n",
       "    .dataframe thead th {\n",
       "        text-align: right;\n",
       "    }\n",
       "</style>\n",
       "<table border=\"1\" class=\"dataframe\">\n",
       "  <thead>\n",
       "    <tr style=\"text-align: right;\">\n",
       "      <th></th>\n",
       "      <th>SiO2</th>\n",
       "      <th>TiO2</th>\n",
       "      <th>Al2O3</th>\n",
       "      <th>FeOT</th>\n",
       "      <th>MnO</th>\n",
       "      <th>MgO</th>\n",
       "      <th>CaO</th>\n",
       "      <th>Na2O</th>\n",
       "      <th>K2O</th>\n",
       "      <th>P2O5</th>\n",
       "      <th>...</th>\n",
       "      <th>Lu</th>\n",
       "      <th>Hf</th>\n",
       "      <th>Ta</th>\n",
       "      <th>Th</th>\n",
       "      <th>U</th>\n",
       "      <th>Cr</th>\n",
       "      <th>Ni</th>\n",
       "      <th>LATITUDE</th>\n",
       "      <th>LONGITUDE</th>\n",
       "      <th>Tectonic_setting</th>\n",
       "    </tr>\n",
       "  </thead>\n",
       "  <tbody>\n",
       "    <tr>\n",
       "      <th>0</th>\n",
       "      <td>49.840</td>\n",
       "      <td>0.690</td>\n",
       "      <td>19.520</td>\n",
       "      <td>9.58</td>\n",
       "      <td>0.190</td>\n",
       "      <td>5.830</td>\n",
       "      <td>11.810</td>\n",
       "      <td>1.250</td>\n",
       "      <td>0.030</td>\n",
       "      <td>0.030</td>\n",
       "      <td>...</td>\n",
       "      <td>0.210000</td>\n",
       "      <td>0.610000</td>\n",
       "      <td>0.012000</td>\n",
       "      <td>0.080000</td>\n",
       "      <td>0.037000</td>\n",
       "      <td>89.000000</td>\n",
       "      <td>31.800000</td>\n",
       "      <td>43.88000</td>\n",
       "      <td>145.53000</td>\n",
       "      <td>1.0</td>\n",
       "    </tr>\n",
       "    <tr>\n",
       "      <th>1</th>\n",
       "      <td>49.684</td>\n",
       "      <td>1.243</td>\n",
       "      <td>16.292</td>\n",
       "      <td>9.88</td>\n",
       "      <td>0.156</td>\n",
       "      <td>5.446</td>\n",
       "      <td>9.331</td>\n",
       "      <td>2.906</td>\n",
       "      <td>1.368</td>\n",
       "      <td>0.387</td>\n",
       "      <td>...</td>\n",
       "      <td>0.506941</td>\n",
       "      <td>4.048274</td>\n",
       "      <td>0.306222</td>\n",
       "      <td>1.560400</td>\n",
       "      <td>0.995827</td>\n",
       "      <td>162.629578</td>\n",
       "      <td>55.026173</td>\n",
       "      <td>55.82190</td>\n",
       "      <td>160.23630</td>\n",
       "      <td>1.0</td>\n",
       "    </tr>\n",
       "    <tr>\n",
       "      <th>2</th>\n",
       "      <td>50.437</td>\n",
       "      <td>1.328</td>\n",
       "      <td>17.051</td>\n",
       "      <td>9.35</td>\n",
       "      <td>0.136</td>\n",
       "      <td>4.771</td>\n",
       "      <td>9.144</td>\n",
       "      <td>3.202</td>\n",
       "      <td>1.524</td>\n",
       "      <td>0.414</td>\n",
       "      <td>...</td>\n",
       "      <td>0.521601</td>\n",
       "      <td>4.423565</td>\n",
       "      <td>0.344621</td>\n",
       "      <td>1.751808</td>\n",
       "      <td>1.119837</td>\n",
       "      <td>112.968681</td>\n",
       "      <td>47.489128</td>\n",
       "      <td>55.81992</td>\n",
       "      <td>160.39200</td>\n",
       "      <td>1.0</td>\n",
       "    </tr>\n",
       "    <tr>\n",
       "      <th>3</th>\n",
       "      <td>50.880</td>\n",
       "      <td>1.384</td>\n",
       "      <td>16.976</td>\n",
       "      <td>9.69</td>\n",
       "      <td>0.153</td>\n",
       "      <td>4.588</td>\n",
       "      <td>8.533</td>\n",
       "      <td>3.281</td>\n",
       "      <td>1.786</td>\n",
       "      <td>0.482</td>\n",
       "      <td>...</td>\n",
       "      <td>0.565124</td>\n",
       "      <td>4.716979</td>\n",
       "      <td>0.353370</td>\n",
       "      <td>1.869443</td>\n",
       "      <td>1.182308</td>\n",
       "      <td>102.395943</td>\n",
       "      <td>40.964020</td>\n",
       "      <td>55.81042</td>\n",
       "      <td>160.36475</td>\n",
       "      <td>1.0</td>\n",
       "    </tr>\n",
       "    <tr>\n",
       "      <th>4</th>\n",
       "      <td>50.845</td>\n",
       "      <td>1.913</td>\n",
       "      <td>16.231</td>\n",
       "      <td>10.11</td>\n",
       "      <td>0.154</td>\n",
       "      <td>3.535</td>\n",
       "      <td>7.915</td>\n",
       "      <td>3.498</td>\n",
       "      <td>2.180</td>\n",
       "      <td>0.647</td>\n",
       "      <td>...</td>\n",
       "      <td>0.717250</td>\n",
       "      <td>6.677058</td>\n",
       "      <td>0.393347</td>\n",
       "      <td>2.643277</td>\n",
       "      <td>1.661968</td>\n",
       "      <td>28.622011</td>\n",
       "      <td>22.113792</td>\n",
       "      <td>55.81600</td>\n",
       "      <td>160.38636</td>\n",
       "      <td>1.0</td>\n",
       "    </tr>\n",
       "  </tbody>\n",
       "</table>\n",
       "<p>5 rows × 39 columns</p>\n",
       "</div>"
      ],
      "text/plain": [
       "     SiO2   TiO2   Al2O3   FeOT    MnO    MgO     CaO   Na2O    K2O   P2O5  \\\n",
       "0  49.840  0.690  19.520   9.58  0.190  5.830  11.810  1.250  0.030  0.030   \n",
       "1  49.684  1.243  16.292   9.88  0.156  5.446   9.331  2.906  1.368  0.387   \n",
       "2  50.437  1.328  17.051   9.35  0.136  4.771   9.144  3.202  1.524  0.414   \n",
       "3  50.880  1.384  16.976   9.69  0.153  4.588   8.533  3.281  1.786  0.482   \n",
       "4  50.845  1.913  16.231  10.11  0.154  3.535   7.915  3.498  2.180  0.647   \n",
       "\n",
       "   ...        Lu        Hf        Ta        Th         U          Cr  \\\n",
       "0  ...  0.210000  0.610000  0.012000  0.080000  0.037000   89.000000   \n",
       "1  ...  0.506941  4.048274  0.306222  1.560400  0.995827  162.629578   \n",
       "2  ...  0.521601  4.423565  0.344621  1.751808  1.119837  112.968681   \n",
       "3  ...  0.565124  4.716979  0.353370  1.869443  1.182308  102.395943   \n",
       "4  ...  0.717250  6.677058  0.393347  2.643277  1.661968   28.622011   \n",
       "\n",
       "          Ni  LATITUDE  LONGITUDE  Tectonic_setting  \n",
       "0  31.800000  43.88000  145.53000               1.0  \n",
       "1  55.026173  55.82190  160.23630               1.0  \n",
       "2  47.489128  55.81992  160.39200               1.0  \n",
       "3  40.964020  55.81042  160.36475               1.0  \n",
       "4  22.113792  55.81600  160.38636               1.0  \n",
       "\n",
       "[5 rows x 39 columns]"
      ]
     },
     "execution_count": 13,
     "metadata": {},
     "output_type": "execute_result"
    }
   ],
   "source": [
    "sampled_df[\"Tectonic_setting\"] = onehot_encoded\n",
    "sampled_df.head()"
   ]
  },
  {
   "cell_type": "code",
   "execution_count": 14,
   "id": "f861c5a4-c257-4689-b4bb-b5d5bc22bc4b",
   "metadata": {},
   "outputs": [
    {
     "data": {
      "text/plain": [
       "0       1.0\n",
       "1       1.0\n",
       "2       1.0\n",
       "3       1.0\n",
       "4       1.0\n",
       "       ... \n",
       "6363    0.0\n",
       "6364    0.0\n",
       "6365    0.0\n",
       "6366    0.0\n",
       "6367    0.0\n",
       "Name: Tectonic_setting, Length: 6368, dtype: float64"
      ]
     },
     "execution_count": 14,
     "metadata": {},
     "output_type": "execute_result"
    }
   ],
   "source": [
    "sampled_df[\"Tectonic_setting\"]\n"
   ]
  },
  {
   "cell_type": "markdown",
   "id": "55e9ead4-66e4-4468-9fa2-ccf4d448f632",
   "metadata": {},
   "source": [
    "`Standarizing the data`"
   ]
  },
  {
   "cell_type": "code",
   "execution_count": 24,
   "id": "2fb5cf88-0d51-4f5f-8d4f-59f95920a9b3",
   "metadata": {},
   "outputs": [],
   "source": [
    "from sklearn.preprocessing import StandardScaler\n",
    "scaler = StandardScaler()\n",
    "x_standard = scaler.fit_transform(sampled_df[col])\n",
    "sampled_df[col] = x_standard\n",
    "combined_df[col] = x_standard"
   ]
  },
  {
   "cell_type": "markdown",
   "id": "9d50b089-f340-4d88-8fce-a9e6fdf841d8",
   "metadata": {},
   "source": [
    "`data counts first look`"
   ]
  },
  {
   "cell_type": "code",
   "execution_count": 25,
   "id": "2996398f-c330-4701-9911-8af1aa606882",
   "metadata": {},
   "outputs": [
    {
     "data": {
      "text/plain": [
       "<BarContainer object of 3 artists>"
      ]
     },
     "execution_count": 25,
     "metadata": {},
     "output_type": "execute_result"
    },
    {
     "data": {
      "image/png": "[encoded data removed]",
      "text/plain": [
       "<Figure size 432x288 with 1 Axes>"
      ]
     },
     "metadata": {
      "needs_background": "light"
     },
     "output_type": "display_data"
    }
   ],
   "source": [
    "t = sampled_df.Tectonic_setting.value_counts()\n",
    "plt.bar(t.index, t.values)"
   ]
  },
  {
   "cell_type": "code",
   "execution_count": null,
   "id": "f5dd6624-f4dc-4f33-9c96-de2594822bb7",
   "metadata": {},
   "outputs": [],
   "source": [
    "t"
   ]
  },
  {
   "cell_type": "markdown",
   "id": "58b95242-0f46-4a22-8251-958b4cd99a89",
   "metadata": {},
   "source": [
    "`balancing the data via random oversampler`"
   ]
  },
  {
   "cell_type": "code",
   "execution_count": 26,
   "id": "589b7119-4ad2-4309-acd1-3cbb094663ec",
   "metadata": {},
   "outputs": [],
   "source": [
    "from sklearn.model_selection import train_test_split\n",
    "# X = sampled_df[col], y = sampled_df[\"Tectonic_setting\"]\n",
    "X_train, X_test, y_train, y_test = train_test_split(sampled_df[col],sampled_df[\"Tectonic_setting\"],\\\n",
    "                                                    test_size=0.3, random_state=100)"
   ]
  },
  {
   "cell_type": "code",
   "execution_count": 27,
   "id": "bd3e206c-c603-4eff-a0df-2267b8e60391",
   "metadata": {},
   "outputs": [
    {
     "data": {
      "text/plain": [
       "6114    MORB\n",
       "149      IAB\n",
       "1377     IAB\n",
       "2201     IAB\n",
       "6156    MORB\n",
       "        ... \n",
       "6026    MORB\n",
       "79       IAB\n",
       "3927     IAB\n",
       "5955    MORB\n",
       "5640    MORB\n",
       "Name: Tectonic_setting, Length: 4457, dtype: object"
      ]
     },
     "execution_count": 27,
     "metadata": {},
     "output_type": "execute_result"
    }
   ],
   "source": [
    "y_train"
   ]
  },
  {
   "cell_type": "code",
   "execution_count": 32,
   "id": "742e919b-6f0e-4a5f-ad29-bc2a970632b8",
   "metadata": {},
   "outputs": [],
   "source": [
    "from imblearn.over_sampling import RandomOverSampler\n",
    "over_sampler = RandomOverSampler(random_state=42)\n",
    "X_bal, y_bal = over_sampler.fit_resample(X_train, y_train)\n"
   ]
  },
  {
   "cell_type": "code",
   "execution_count": 33,
   "id": "981ebba2-b098-4098-917e-6e2b3eb94433",
   "metadata": {},
   "outputs": [
    {
     "data": {
      "text/plain": [
       "<AxesSubplot:>"
      ]
     },
     "execution_count": 33,
     "metadata": {},
     "output_type": "execute_result"
    },
    {
     "data": {
      "image/png": "[encoded data removed]",
      "text/plain": [
       "<Figure size 432x288 with 1 Axes>"
      ]
     },
     "metadata": {
      "needs_background": "light"
     },
     "output_type": "display_data"
    }
   ],
   "source": [
    "y_bal.value_counts().plot(kind='bar')"
   ]
  },
  {
   "cell_type": "code",
   "execution_count": 30,
   "id": "1c6b8ce5-1285-423f-b5d8-c99f524c18ba",
   "metadata": {},
   "outputs": [
    {
     "data": {
      "text/plain": [
       "Index(['SiO2', 'TiO2', 'Al2O3', 'FeOT', 'MnO', 'MgO', 'CaO', 'Na2O', 'K2O',\n",
       "       'P2O5', 'Rb', 'Sr', 'Y', 'Zr', 'Nb', 'Ba', 'La', 'Ce', 'Pr', 'Nd', 'Sm',\n",
       "       'Eu', 'Gd', 'Tb', 'Dy', 'Ho', 'Er', 'Tm', 'Yb', 'Lu', 'Hf', 'Ta', 'Th',\n",
       "       'U', 'Cr', 'Ni'],\n",
       "      dtype='object')"
      ]
     },
     "execution_count": 30,
     "metadata": {},
     "output_type": "execute_result"
    }
   ],
   "source": [
    "sampled_df[col].columns"
   ]
  },
  {
   "cell_type": "markdown",
   "id": "b30cc47b-6984-494d-91cf-d4b58f7b11d4",
   "metadata": {},
   "source": [
    "# Feature importance with Random Forest"
   ]
  },
  {
   "cell_type": "code",
   "execution_count": 34,
   "id": "d39116e4-f242-4bef-a5c6-d9edee676db3",
   "metadata": {},
   "outputs": [],
   "source": [
    "from sklearn.ensemble import RandomForestClassifier\n",
    "labels = sampled_df[col].columns.to_list()\n",
    "rf = RandomForestClassifier(n_estimators = 500, random_state = 1)\n",
    "rf.fit(X_bal, y_bal)\n",
    "feature_importance = rf.feature_importances_\n",
    "indices = np.argsort(feature_importance)[::-1]"
   ]
  },
  {
   "cell_type": "code",
   "execution_count": 36,
   "id": "ce9d81b8-f835-4e34-b936-faf01afc4850",
   "metadata": {},
   "outputs": [
    {
     "name": "stdout",
     "output_type": "stream",
     "text": [
      "36 36\n"
     ]
    }
   ],
   "source": [
    "print(len(feature_importance), len(labels))"
   ]
  },
  {
   "cell_type": "code",
   "execution_count": 41,
   "id": "48c74a56-3df7-44ae-ae4d-2b69113e5bfd",
   "metadata": {},
   "outputs": [
    {
     "data": {
      "text/plain": [
       "36"
      ]
     },
     "execution_count": 41,
     "metadata": {},
     "output_type": "execute_result"
    }
   ],
   "source": [
    "\n",
    "X_res.shape[1]"
   ]
  },
  {
   "cell_type": "code",
   "execution_count": 38,
   "id": "19c555fb-8729-44e5-bf60-095a6bc7cdd1",
   "metadata": {},
   "outputs": [
    {
     "data": {
      "text/plain": [
       "array(['OIB', 'OIB', 'IAB', ..., 'IAB', 'IAB', 'MORB'], dtype=object)"
      ]
     },
     "execution_count": 38,
     "metadata": {},
     "output_type": "execute_result"
    }
   ],
   "source": [
    "y_result= rf.predict(X_test)\n",
    "y_result"
   ]
  },
  {
   "cell_type": "code",
   "execution_count": 44,
   "id": "28f705aa-5207-4ddb-92b1-af3e5a9dceea",
   "metadata": {},
   "outputs": [
    {
     "data": {
      "text/plain": [
       "0        IAB\n",
       "1        IAB\n",
       "2        IAB\n",
       "3        IAB\n",
       "4        IAB\n",
       "        ... \n",
       "6363    MORB\n",
       "6364    MORB\n",
       "6365    MORB\n",
       "6366    MORB\n",
       "6367    MORB\n",
       "Name: Tectonic_setting, Length: 6368, dtype: object"
      ]
     },
     "execution_count": 44,
     "metadata": {},
     "output_type": "execute_result"
    }
   ],
   "source": [
    "sampled_df[\"Tectonic_setting\"]"
   ]
  },
  {
   "cell_type": "code",
   "execution_count": 51,
   "id": "5fa0adfa-f622-444a-803d-584953399fb9",
   "metadata": {},
   "outputs": [
    {
     "name": "stdout",
     "output_type": "stream",
     "text": [
      "              precision    recall  f1-score   support\n",
      "\n",
      "         IAB       0.96      0.95      0.96      1003\n",
      "        MORB       0.92      0.85      0.88       328\n",
      "         OIB       0.91      0.96      0.94       580\n",
      "\n",
      "    accuracy                           0.94      1911\n",
      "   macro avg       0.93      0.92      0.93      1911\n",
      "weighted avg       0.94      0.94      0.94      1911\n",
      "\n"
     ]
    }
   ],
   "source": [
    "from sklearn.metrics import classification_report\n",
    "print(classification_report(y_test, y_result))\n"
   ]
  },
  {
   "cell_type": "code",
   "execution_count": 56,
   "id": "a6072bd2-cb44-4741-a3e1-1642022e5af2",
   "metadata": {},
   "outputs": [
    {
     "data": {
      "image/png": "[encoded data removed]",
      "text/plain": [
       "<Figure size 432x288 with 2 Axes>"
      ]
     },
     "metadata": {
      "needs_background": "light"
     },
     "output_type": "display_data"
    }
   ],
   "source": [
    "from sklearn.metrics import confusion_matrix, ConfusionMatrixDisplay\n",
    "confusion_matrix = confusion_matrix(y_test, y_result)\n",
    "cm_display =ConfusionMatrixDisplay(confusion_matrix = confusion_matrix) #,display_labels = [False, True])\n",
    "cm_display.plot()\n",
    "plt.show()"
   ]
  },
  {
   "cell_type": "code",
   "execution_count": 58,
   "id": "02833036-10f8-4262-b610-253b7db69b44",
   "metadata": {},
   "outputs": [
    {
     "data": {
      "image/png": "[encoded data removed]",
      "text/plain": [
       "<Figure size 720x576 with 1 Axes>"
      ]
     },
     "metadata": {
      "needs_background": "light"
     },
     "output_type": "display_data"
    }
   ],
   "source": [
    "plt.figure(figsize= (10,8))\n",
    "plt.title(\"Feature Importance using Random Forest Impurity Values\")\n",
    "plt.bar(range(X_res.shape[1]),feature_importance[indices], align = 'center')\n",
    "plt.xticks(range(X_res.shape[1]), labels, rotation = 90)\n",
    "plt.show()"
   ]
  },
  {
   "cell_type": "code",
   "execution_count": null,
   "id": "e7b3c76e-f1b5-448d-ac2a-388006667ef6",
   "metadata": {},
   "outputs": [],
   "source": []
  }
 ],
 "metadata": {
  "kernelspec": {
   "display_name": "Python 3 (ipykernel)",
   "language": "python",
   "name": "python3"
  },
  "language_info": {
   "codemirror_mode": {
    "name": "ipython",
    "version": 3
   },
   "file_extension": ".py",
   "mimetype": "text/x-python",
   "name": "python",
   "nbconvert_exporter": "python",
   "pygments_lexer": "ipython3",
   "version": "3.9.12"
  }
 },
 "nbformat": 4,
 "nbformat_minor": 5
}
