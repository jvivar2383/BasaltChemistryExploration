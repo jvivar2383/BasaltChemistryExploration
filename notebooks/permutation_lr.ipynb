{
 "cells": [
  {
   "cell_type": "markdown",
   "id": "87772f29-969e-40c7-9df9-22b88f966395",
   "metadata": {},
   "source": [
    "Logistic with permutation importance\n"
   ]
  },
  {
   "cell_type": "code",
   "execution_count": 1,
   "id": "89fe45bc-bc96-45e1-a0dc-3f7d8cf7aa2f",
   "metadata": {},
   "outputs": [],
   "source": [
    "from sklearn.inspection import permutation_importance\n",
    "import pandas as pd\n",
    "import seaborn as sns\n",
    "import numpy as np\n",
    "import matplotlib.pyplot as plt"
   ]
  },
  {
   "cell_type": "code",
   "execution_count": 2,
   "id": "7ab28b85-7cb9-433c-af55-079566ba58f2",
   "metadata": {},
   "outputs": [],
   "source": [
    "p = \"/Users/jenifervivar/Documents/GitHub/OceanBasaltML/basalts thesis/src/data/variables_target_file\"\n",
    "sampled_df = pd.read_csv(p)\n",
    "col = sampled_df.columns[:-3].values\n",
    "\n",
    "sampled_df[\"Nb/Y\"] = np.round(sampled_df[\"Nb\"])/np.round(sampled_df[\"Y\"])\n",
    "sampled_df[\"FeOT/MgO\"]= np.round(sampled_df[\"FeOT\"])/np.round(sampled_df[\"MgO\"])\n",
    "sampled_df[\"La/Sm\"] = np.round(sampled_df[\"La\"])/np.round(sampled_df[\"Sm\"])\n",
    "sampled_df[\"Zr/Nb\"] = np.round(sampled_df[\"Zr\"])/np.round(sampled_df[\"Nb\"])\n",
    "sampled_df[\"Y/Nb\"]= np.round(sampled_df[\"Y\"])/np.round(sampled_df[\"Nb\"])\n",
    "sampled_df[\"Nb/La\"] = np.round(sampled_df[\"Nb\"])/np.round(sampled_df[\"La\"])\n",
    "sampled_df[\"Th/Yb\"] = np.round(sampled_df[\"Th\"])/np.round(sampled_df[\"Yb\"])\n",
    "sampled_df[\"Zr/Y\"] = np.round(sampled_df[\"Zr\"])/np.round(sampled_df[\"Y\"])\n",
    "\n",
    "newColsNames = np.array([\"Nb/Y\",\"FeOT/MgO\",\"La/Sm\",\"Zr/Nb\",\"Y/Nb\", \"Nb/La\", \"Th/Yb\", \"Zr/Y\"])\n",
    "features = np.append(col, newColsNames)\n",
    "X = sampled_df[features]\n",
    "sampled_df.replace([np.inf, -np.inf], np.nan, inplace=True)\n",
    "sampled_df.dropna(inplace = True)\n",
    "X = sampled_df[features]\n",
    "\n",
    "from sklearn.preprocessing import StandardScaler\n",
    "scaler = StandardScaler()\n",
    "x_standard = scaler.fit_transform(sampled_df[features])\n",
    "sampled_df[features] = x_standard\n",
    "\n",
    "#sliced data for model training and balancing the labels\n",
    "from sklearn.model_selection import train_test_split\n",
    "# X = sampled_df[col], y = sampled_df[\"Tectonic_setting\"]\n",
    "X_train, X_test, y_train, y_test = train_test_split(X,sampled_df[\"Tectonic_setting\"],\\\n",
    "                                                    test_size=0.3, random_state=100)\n",
    "\n",
    "from imblearn.over_sampling import RandomOverSampler\n",
    "over_sampler = RandomOverSampler(random_state=42)\n",
    "X_bal, y_bal = over_sampler.fit_resample(X_train, y_train)"
   ]
  },
  {
   "cell_type": "code",
   "execution_count": 24,
   "id": "06deed54-1640-4a81-bac1-44175251e367",
   "metadata": {
    "tags": []
   },
   "outputs": [
    {
     "name": "stderr",
     "output_type": "stream",
     "text": [
      "/Users/jenifervivar/opt/anaconda3/lib/python3.9/site-packages/sklearn/linear_model/_logistic.py:444: ConvergenceWarning: lbfgs failed to converge (status=1):\n",
      "STOP: TOTAL NO. of ITERATIONS REACHED LIMIT.\n",
      "\n",
      "Increase the number of iterations (max_iter) or scale the data as shown in:\n",
      "    https://scikit-learn.org/stable/modules/preprocessing.html\n",
      "Please also refer to the documentation for alternative solver options:\n",
      "    https://scikit-learn.org/stable/modules/linear_model.html#logistic-regression\n",
      "  n_iter_i = _check_optimize_result(\n"
     ]
    }
   ],
   "source": [
    "from sklearn.linear_model import LogisticRegression\n",
    "\n",
    "#training the model\n",
    "lr = LogisticRegression(C= 100, random_state = 1, multi_class = 'ovr', solver = \"lbfgs\")\n",
    "lr.fit(X_bal, y_bal)\n",
    "y_result = lr.predict(X_test)"
   ]
  },
  {
   "cell_type": "code",
   "execution_count": 40,
   "id": "fc0d9162-bae2-4aff-bd85-1c5035a2ba72",
   "metadata": {},
   "outputs": [
    {
     "data": {
      "text/plain": [
       "44"
      ]
     },
     "execution_count": 40,
     "metadata": {},
     "output_type": "execute_result"
    }
   ],
   "source": [
    "len(features)"
   ]
  },
  {
   "cell_type": "code",
   "execution_count": 25,
   "id": "bd1da228-6b79-4bf5-8be6-0a9a141f6da2",
   "metadata": {
    "tags": []
   },
   "outputs": [
    {
     "name": "stderr",
     "output_type": "stream",
     "text": [
      "Error processing line 1 of /Users/jenifervivar/opt/anaconda3/lib/python3.9/site-packages/google_auth-1.4.2-py2.7-nspkg.pth:\n",
      "\n",
      "  Traceback (most recent call last):\n",
      "    File \"/Users/jenifervivar/opt/anaconda3/lib/python3.9/site.py\", line 169, in addpackage\n",
      "      exec(line)\n",
      "    File \"<string>\", line 1, in <module>\n",
      "    File \"<frozen importlib._bootstrap>\", line 562, in module_from_spec\n",
      "  AttributeError: 'NoneType' object has no attribute 'loader'\n",
      "\n",
      "Remainder of file ignored\n",
      "Error processing line 1 of /Users/jenifervivar/opt/anaconda3/lib/python3.9/site-packages/google_auth-1.4.2-py2.7-nspkg.pth:\n",
      "\n",
      "  Traceback (most recent call last):\n",
      "    File \"/Users/jenifervivar/opt/anaconda3/lib/python3.9/site.py\", line 169, in addpackage\n",
      "      exec(line)\n",
      "    File \"<string>\", line 1, in <module>\n",
      "    File \"<frozen importlib._bootstrap>\", line 562, in module_from_spec\n",
      "  AttributeError: 'NoneType' object has no attribute 'loader'\n",
      "\n",
      "Remainder of file ignored\n"
     ]
    }
   ],
   "source": [
    "result = permutation_importance(lr, X_test, y_test, n_repeats=20, random_state=42, n_jobs=2)"
   ]
  },
  {
   "cell_type": "code",
   "execution_count": 39,
   "id": "630b0a63-b4a7-4d93-a494-4fac941b8acc",
   "metadata": {
    "collapsed": true,
    "jupyter": {
     "outputs_hidden": true
    },
    "tags": []
   },
   "outputs": [
    {
     "data": {
      "text/plain": [
       "{'importances_mean': array([ 8.22819528e-04,  2.02962150e-03,  6.00658256e-03,  3.10202962e-02,\n",
       "         0.00000000e+00,  4.38837082e-03,  8.06363138e-03,  1.61821174e-03,\n",
       "         2.74273176e-05,  0.00000000e+00, -1.04223807e-03,  1.30773450e-01,\n",
       "         7.09544707e-02,  9.75041141e-02,  8.51343939e-02,  1.82117389e-02,\n",
       "         9.71749863e-02,  1.03702688e-01,  1.37136588e-03,  1.88535381e-01,\n",
       "        -1.04223807e-03,  2.46845858e-04,  9.87383434e-04,  0.00000000e+00,\n",
       "         9.32528799e-04,  0.00000000e+00,  8.22819528e-04,  0.00000000e+00,\n",
       "         6.85682940e-04,  1.64563906e-04, -4.66264399e-04,  9.05101481e-04,\n",
       "         4.74492595e-03,  8.22819528e-05,  4.05924301e-03,  1.71420735e-02,\n",
       "         2.19418541e-04,  8.22819528e-05, -1.17937466e-03,  2.59188151e-02,\n",
       "         2.18595721e-02,  0.00000000e+00,  8.50246846e-04,  8.36533187e-03]),\n",
       " 'importances_std': array([0.00161332, 0.0008862 , 0.00241282, 0.00475838, 0.        ,\n",
       "        0.00237844, 0.00309382, 0.00085817, 0.00011955, 0.        ,\n",
       "        0.00106791, 0.00682803, 0.00462953, 0.00601622, 0.00420489,\n",
       "        0.00425115, 0.00588065, 0.00492616, 0.00221126, 0.00768768,\n",
       "        0.00110937, 0.00032336, 0.0008062 , 0.        , 0.00099799,\n",
       "        0.        , 0.00106226, 0.        , 0.00131965, 0.00035124,\n",
       "        0.00063202, 0.00060775, 0.0022834 , 0.00035866, 0.00315307,\n",
       "        0.00378408, 0.00047188, 0.00115423, 0.00144378, 0.00420945,\n",
       "        0.00333341, 0.0004249 , 0.00089255, 0.00261855]),\n",
       " 'importances': array([[ 0.00438837,  0.00109709, -0.00054855,  0.        ,  0.        ,\n",
       "          0.00219419,  0.00109709, -0.00164564, -0.00164564,  0.00054855,\n",
       "         -0.00109709,  0.00054855,  0.00329128,  0.00054855,  0.00274273,\n",
       "          0.00274273,  0.00109709,  0.00054855, -0.00109709,  0.00164564],\n",
       "        [ 0.00274273,  0.00109709,  0.00274273,  0.00329128,  0.00109709,\n",
       "          0.00054855,  0.00164564,  0.00219419,  0.00109709,  0.00164564,\n",
       "          0.00383982,  0.00219419,  0.00219419,  0.00164564,  0.00109709,\n",
       "          0.00219419,  0.00164564,  0.00164564,  0.00219419,  0.00383982],\n",
       "        [ 0.00383982,  0.0071311 ,  0.01042238,  0.0071311 ,  0.00438837,\n",
       "          0.00932529,  0.0082282 ,  0.00438837,  0.00493692, -0.00054855,\n",
       "          0.00329128,  0.0071311 ,  0.00438837,  0.00658256,  0.0082282 ,\n",
       "          0.00603401,  0.00493692,  0.00493692,  0.00767965,  0.00767965],\n",
       "        [ 0.03510697,  0.03839824,  0.03455842,  0.02468459,  0.02578168,\n",
       "          0.02797586,  0.02797586,  0.03017005,  0.0307186 ,  0.0224904 ,\n",
       "          0.0307186 ,  0.03346133,  0.02797586,  0.02852441,  0.03949534,\n",
       "          0.03675261,  0.03565551,  0.02742732,  0.02633022,  0.03620406],\n",
       "        [ 0.        ,  0.        ,  0.        ,  0.        ,  0.        ,\n",
       "          0.        ,  0.        ,  0.        ,  0.        ,  0.        ,\n",
       "          0.        ,  0.        ,  0.        ,  0.        ,  0.        ,\n",
       "          0.        ,  0.        ,  0.        ,  0.        ,  0.        ],\n",
       "        [ 0.00383982,  0.00548546,  0.00493692,  0.00274273,  0.00274273,\n",
       "          0.00877674,  0.00438837, -0.00054855,  0.00329128,  0.00438837,\n",
       "          0.00109709,  0.00329128,  0.00493692,  0.00164564,  0.00603401,\n",
       "          0.0082282 ,  0.0082282 ,  0.00329128,  0.0071311 ,  0.00383982],\n",
       "        [ 0.01151947,  0.01151947,  0.0071311 ,  0.0071311 ,  0.00658256,\n",
       "          0.00603401,  0.00767965,  0.01042238,  0.00438837,  0.00877674,\n",
       "          0.00987383,  0.00932529,  0.01042238,  0.00877674, -0.00164564,\n",
       "          0.01151947,  0.01097093,  0.00767965,  0.00438837,  0.00877674],\n",
       "        [ 0.00219419,  0.00109709,  0.00164564,  0.00109709,  0.00219419,\n",
       "          0.        ,  0.00054855,  0.00054855,  0.00109709,  0.00274273,\n",
       "          0.00219419,  0.00329128,  0.00109709,  0.00164564,  0.00109709,\n",
       "          0.00274273,  0.00219419,  0.00274273,  0.00109709,  0.00109709],\n",
       "        [ 0.        ,  0.        ,  0.        ,  0.        ,  0.        ,\n",
       "          0.        ,  0.        ,  0.        ,  0.        ,  0.        ,\n",
       "          0.        ,  0.        ,  0.00054855,  0.        ,  0.        ,\n",
       "          0.        ,  0.        ,  0.        ,  0.        ,  0.        ],\n",
       "        [ 0.        ,  0.        ,  0.        ,  0.        ,  0.        ,\n",
       "          0.        ,  0.        ,  0.        ,  0.        ,  0.        ,\n",
       "          0.        ,  0.        ,  0.        ,  0.        ,  0.        ,\n",
       "          0.        ,  0.        ,  0.        ,  0.        ,  0.        ],\n",
       "        [-0.00164564, -0.00274273, -0.00219419,  0.        , -0.00274273,\n",
       "         -0.00219419, -0.00109709, -0.00219419, -0.00054855,  0.        ,\n",
       "          0.        , -0.00109709, -0.00164564, -0.00054855, -0.00164564,\n",
       "          0.00109709, -0.00109709,  0.        , -0.00109709,  0.00054855],\n",
       "        [ 0.13165112,  0.1349424 ,  0.13274822,  0.13110258,  0.13878223,\n",
       "          0.13000549,  0.12835985,  0.13549095,  0.13219967,  0.11793747,\n",
       "          0.1278113 ,  0.13110258,  0.12232584,  0.14755897,  0.1278113 ,\n",
       "          0.11738892,  0.1360395 ,  0.1278113 ,  0.12671421,  0.13768513],\n",
       "        [ 0.0828305 ,  0.07021393,  0.07131103,  0.06911684,  0.07185957,\n",
       "          0.07295666,  0.07240812,  0.07131103,  0.06472847,  0.0674712 ,\n",
       "          0.0674712 ,  0.07295666,  0.07185957,  0.07679649,  0.06582556,\n",
       "          0.06801975,  0.06801975,  0.06692265,  0.08063631,  0.06637411],\n",
       "        [ 0.08447614,  0.0970927 ,  0.09764125,  0.09544707,  0.09928689,\n",
       "          0.10477235,  0.09434997,  0.09873834,  0.0981898 ,  0.09325288,\n",
       "          0.11025782,  0.09434997,  0.08502468,  0.10202962,  0.09544707,\n",
       "          0.09654416,  0.09654416,  0.09983544,  0.09928689,  0.10751509],\n",
       "        [ 0.0828305 ,  0.07789358,  0.08612178,  0.07624794,  0.08886451,\n",
       "          0.0828305 ,  0.08612178,  0.08502468,  0.08941306,  0.08173341,\n",
       "          0.0828305 ,  0.09105869,  0.09215579,  0.08008777,  0.08502468,\n",
       "          0.09051015,  0.08886451,  0.0828305 ,  0.08667032,  0.08557323],\n",
       "        [ 0.02194185,  0.0224904 ,  0.02194185,  0.00987383,  0.01700494,\n",
       "          0.0224904 ,  0.01645639,  0.02139331,  0.0153593 ,  0.02029622,\n",
       "          0.02523313,  0.01700494,  0.02194185,  0.02139331,  0.01151947,\n",
       "          0.0153593 ,  0.01974767,  0.01151947,  0.01810203,  0.01316511],\n",
       "        [ 0.10422381,  0.10586945,  0.09380143,  0.08941306,  0.09160724,\n",
       "          0.0970927 ,  0.08831596,  0.1053209 ,  0.09270433,  0.09983544,\n",
       "          0.09654416,  0.10093253,  0.09983544,  0.10312671,  0.09764125,\n",
       "          0.09544707,  0.08337905,  0.09928689,  0.10312671,  0.09599561],\n",
       "        [ 0.0970927 ,  0.09928689,  0.10696654,  0.10422381,  0.112452  ,\n",
       "          0.10038398,  0.10093253,  0.10696654,  0.10312671,  0.09873834,\n",
       "          0.10422381,  0.10312671,  0.10970927,  0.09160724,  0.09983544,\n",
       "          0.1053209 ,  0.10861218,  0.1053209 ,  0.1053209 ,  0.11080636],\n",
       "        [-0.00164564,  0.00493692,  0.00438837,  0.00109709,  0.00329128,\n",
       "         -0.00054855, -0.00054855, -0.00109709, -0.00109709,  0.00164564,\n",
       "          0.00054855,  0.00383982,  0.00109709,  0.00548546,  0.00109709,\n",
       "          0.00274273,  0.00164564,  0.00109709,  0.00219419, -0.00274273],\n",
       "        [ 0.17827756,  0.18760285,  0.1952825 ,  0.19473396,  0.18979704,\n",
       "          0.19253977,  0.17827756,  0.18540867,  0.18595721,  0.17443774,\n",
       "          0.20405924,  0.19418541,  0.1810203 ,  0.18266594,  0.18760285,\n",
       "          0.18924849,  0.18266594,  0.19637959,  0.1881514 ,  0.2024136 ],\n",
       "        [ 0.        , -0.00219419, -0.00164564, -0.00164564, -0.00164564,\n",
       "         -0.00219419, -0.00164564,  0.00054855, -0.00164564, -0.00219419,\n",
       "          0.00164564, -0.00164564, -0.00054855, -0.00054855, -0.00164564,\n",
       "          0.00054855, -0.00164564, -0.00109709, -0.00219419,  0.00054855],\n",
       "        [-0.00054855,  0.        ,  0.00054855,  0.00054855,  0.00054855,\n",
       "          0.        ,  0.        ,  0.        ,  0.        ,  0.00054855,\n",
       "          0.00054855,  0.00054855,  0.        ,  0.00054855,  0.        ,\n",
       "          0.00054855,  0.        ,  0.00054855,  0.        ,  0.00054855],\n",
       "        [ 0.00109709,  0.        ,  0.00054855,  0.00109709,  0.00164564,\n",
       "          0.00109709,  0.        ,  0.00219419,  0.00109709,  0.00054855,\n",
       "          0.00274273,  0.00109709,  0.00054855,  0.00219419,  0.        ,\n",
       "          0.00109709, -0.00054855,  0.00109709,  0.00054855,  0.00164564],\n",
       "        [ 0.        ,  0.        ,  0.        ,  0.        ,  0.        ,\n",
       "          0.        ,  0.        ,  0.        ,  0.        ,  0.        ,\n",
       "          0.        ,  0.        ,  0.        ,  0.        ,  0.        ,\n",
       "          0.        ,  0.        ,  0.        ,  0.        ,  0.        ],\n",
       "        [ 0.00054855,  0.00164564,  0.00109709,  0.00219419,  0.00164564,\n",
       "          0.00109709,  0.        , -0.00054855, -0.00054855,  0.00164564,\n",
       "          0.00054855,  0.00219419,  0.00054855,  0.00219419,  0.00109709,\n",
       "          0.00109709,  0.00164564,  0.00164564,  0.00054855, -0.00164564],\n",
       "        [ 0.        ,  0.        ,  0.        ,  0.        ,  0.        ,\n",
       "          0.        ,  0.        ,  0.        ,  0.        ,  0.        ,\n",
       "          0.        ,  0.        ,  0.        ,  0.        ,  0.        ,\n",
       "          0.        ,  0.        ,  0.        ,  0.        ,  0.        ],\n",
       "        [ 0.00054855,  0.00054855,  0.00054855,  0.00109709,  0.00164564,\n",
       "          0.00109709,  0.        , -0.00164564, -0.00054855,  0.00164564,\n",
       "          0.00109709,  0.00329128,  0.        ,  0.00164564,  0.00054855,\n",
       "          0.00109709,  0.00164564,  0.00219419,  0.00054855, -0.00054855],\n",
       "        [ 0.        ,  0.        ,  0.        ,  0.        ,  0.        ,\n",
       "          0.        ,  0.        ,  0.        ,  0.        ,  0.        ,\n",
       "          0.        ,  0.        ,  0.        ,  0.        ,  0.        ,\n",
       "          0.        ,  0.        ,  0.        ,  0.        ,  0.        ],\n",
       "        [ 0.00109709,  0.00109709,  0.00109709,  0.00054855, -0.00054855,\n",
       "          0.00054855,  0.        , -0.00274273, -0.00054855,  0.00219419,\n",
       "          0.00164564,  0.00274273, -0.00054855,  0.        ,  0.00219419,\n",
       "          0.00109709,  0.00164564,  0.00274273, -0.00054855,  0.        ],\n",
       "        [ 0.00054855,  0.00054855,  0.        ,  0.00054855,  0.00054855,\n",
       "         -0.00054855,  0.        , -0.00054855,  0.        ,  0.        ,\n",
       "          0.        ,  0.        ,  0.        ,  0.        ,  0.00054855,\n",
       "          0.00054855,  0.00054855,  0.00054855,  0.        ,  0.        ],\n",
       "        [-0.00109709,  0.        , -0.00054855,  0.        ,  0.        ,\n",
       "         -0.00054855, -0.00054855, -0.00109709, -0.00054855, -0.00054855,\n",
       "         -0.00054855,  0.        ,  0.00054855, -0.00054855, -0.00109709,\n",
       "          0.        ,  0.00109709, -0.00109709, -0.00109709, -0.00164564],\n",
       "        [ 0.00054855,  0.00164564,  0.00109709,  0.00164564,  0.00109709,\n",
       "          0.00109709,  0.00164564,  0.00054855,  0.00054855,  0.00109709,\n",
       "          0.00164564, -0.00054855,  0.00109709,  0.00109709,  0.00054855,\n",
       "          0.00164564,  0.00054855,  0.        ,  0.        ,  0.00109709],\n",
       "        [ 0.00493692,  0.00548546,  0.00438837,  0.00329128,  0.00767965,\n",
       "          0.00164564,  0.00164564,  0.00493692,  0.00603401,  0.00438837,\n",
       "          0.00877674,  0.00383982,  0.0071311 ,  0.0071311 ,  0.00383982,\n",
       "          0.0082282 ,  0.00548546,  0.00219419,  0.        ,  0.00383982],\n",
       "        [ 0.        ,  0.        ,  0.        ,  0.        ,  0.00054855,\n",
       "          0.00054855,  0.        ,  0.        ,  0.        ,  0.00054855,\n",
       "          0.00054855,  0.        , -0.00054855, -0.00054855, -0.00054855,\n",
       "          0.        ,  0.        ,  0.        ,  0.00054855,  0.00054855],\n",
       "        [ 0.00274273,  0.00493692,  0.00274273,  0.00438837,  0.00219419,\n",
       "          0.00054855,  0.01097093,  0.00329128,  0.00219419,  0.0071311 ,\n",
       "          0.00438837, -0.00054855,  0.00548546,  0.00219419,  0.00219419,\n",
       "          0.00329128,  0.01316511,  0.00274273,  0.00274273,  0.00438837],\n",
       "        [ 0.02303895,  0.01371366,  0.02029622,  0.0153593 ,  0.0153593 ,\n",
       "          0.02194185,  0.01590784,  0.01865058,  0.01755348,  0.01042238,\n",
       "          0.01097093,  0.01151947,  0.01810203,  0.01590784,  0.02358749,\n",
       "          0.0224904 ,  0.01810203,  0.01481075,  0.01865058,  0.01645639],\n",
       "        [ 0.        ,  0.        ,  0.00054855,  0.        ,  0.00164564,\n",
       "          0.        ,  0.        ,  0.        ,  0.        ,  0.00054855,\n",
       "          0.        ,  0.        ,  0.00054855, -0.00054855,  0.        ,\n",
       "          0.        ,  0.        ,  0.00054855,  0.00109709,  0.        ],\n",
       "        [-0.00054855,  0.        , -0.00219419,  0.00109709,  0.00219419,\n",
       "         -0.00219419,  0.        ,  0.00109709, -0.00109709,  0.00164564,\n",
       "         -0.00164564,  0.00054855,  0.00054855, -0.00054855,  0.00054855,\n",
       "          0.        ,  0.00054855,  0.        ,  0.00054855,  0.00109709],\n",
       "        [-0.00164564,  0.        , -0.00164564, -0.00274273,  0.        ,\n",
       "         -0.00383982, -0.00164564, -0.00054855, -0.00219419,  0.00164564,\n",
       "         -0.00274273, -0.00164564, -0.00219419, -0.00054855, -0.00109709,\n",
       "          0.00109709,  0.00109709, -0.00109709, -0.00054855, -0.00329128],\n",
       "        [ 0.0307186 ,  0.02687877,  0.01645639,  0.02907296,  0.02742732,\n",
       "          0.03236423,  0.02413604,  0.02523313,  0.02523313,  0.02139331,\n",
       "          0.02084476,  0.02742732,  0.02797586,  0.02358749,  0.02523313,\n",
       "          0.03017005,  0.02303895,  0.03017005,  0.01919912,  0.03181569],\n",
       "        [ 0.01865058,  0.02303895,  0.02413604,  0.01919912,  0.03236423,\n",
       "          0.0224904 ,  0.01919912,  0.02468459,  0.02523313,  0.01755348,\n",
       "          0.02139331,  0.01755348,  0.02358749,  0.01865058,  0.02358749,\n",
       "          0.02139331,  0.02194185,  0.02029622,  0.0224904 ,  0.01974767],\n",
       "        [-0.00054855,  0.        ,  0.        ,  0.        , -0.00054855,\n",
       "          0.        , -0.00054855,  0.        ,  0.        ,  0.00054855,\n",
       "          0.00054855,  0.        , -0.00054855,  0.        ,  0.        ,\n",
       "          0.        , -0.00054855,  0.        ,  0.00054855,  0.00109709],\n",
       "        [ 0.00109709,  0.00109709,  0.        ,  0.00164564,  0.00109709,\n",
       "          0.00109709,  0.00054855,  0.00109709,  0.        ,  0.        ,\n",
       "          0.        ,  0.00054855,  0.00274273,  0.00054855,  0.00109709,\n",
       "          0.00164564, -0.00054855, -0.00054855,  0.00274273,  0.00109709],\n",
       "        [ 0.00548546,  0.00987383,  0.01097093,  0.01042238,  0.00932529,\n",
       "          0.0071311 ,  0.00767965,  0.00658256,  0.00658256,  0.01151947,\n",
       "          0.0071311 ,  0.00877674,  0.01206802,  0.01206802,  0.00438837,\n",
       "          0.01042238,  0.00329128,  0.01151947,  0.00548546,  0.00658256]])}"
      ]
     },
     "execution_count": 39,
     "metadata": {},
     "output_type": "execute_result"
    }
   ],
   "source": [
    "result"
   ]
  },
  {
   "cell_type": "code",
   "execution_count": null,
   "id": "a4dafd05-46fd-4aaa-a10c-df5a5cf2d5a7",
   "metadata": {},
   "outputs": [],
   "source": []
  },
  {
   "cell_type": "code",
   "execution_count": 38,
   "id": "3805639f-d799-411b-960e-cb57ae446fbc",
   "metadata": {},
   "outputs": [
    {
     "data": {
      "text/plain": [
       "array([0.01865058, 0.02303895, 0.02413604, 0.01919912, 0.03236423,\n",
       "       0.0224904 , 0.01919912, 0.02468459, 0.02523313, 0.01755348,\n",
       "       0.02139331, 0.01755348, 0.02358749, 0.01865058, 0.02358749,\n",
       "       0.02139331, 0.02194185, 0.02029622, 0.0224904 , 0.01974767])"
      ]
     },
     "execution_count": 38,
     "metadata": {},
     "output_type": "execute_result"
    }
   ],
   "source": [
    "result.importances[40]"
   ]
  },
  {
   "cell_type": "code",
   "execution_count": 26,
   "id": "06014ce5-f331-4d1f-bcbf-0a0b6fa47182",
   "metadata": {},
   "outputs": [
    {
     "data": {
      "image/png": "[encoded data removed]",
      "text/plain": [
       "<Figure size 1000x800 with 1 Axes>"
      ]
     },
     "metadata": {},
     "output_type": "display_data"
    }
   ],
   "source": [
    "labels = sampled_df[features].columns.to_list()\n",
    "important = pd.Series(result.importances_mean, index=labels)\n",
    "\n",
    "idx = important.values.argsort()[::-1]\n",
    "fig, ax = plt.subplots(figsize= (10,8))\n",
    "ax.set_title(\"Feature Importance using LR\")\n",
    "ax.bar(important.index[idx],important[idx], align = 'center')\n",
    "ax.set_xticks(np.arange(len(labels)),labels = labels,rotation = 90)\n",
    "ax.set_ylabel(\"Mean accuracy decrease\")\n",
    "plt.savefig(\"/Users/jenifervivar/Documents/GitHub/OceanBasaltML/basalts thesis/reports/figures/reg_features\")\n",
    "plt.show()"
   ]
  },
  {
   "cell_type": "code",
   "execution_count": null,
   "id": "9a0e8d78-dd77-456a-b300-88172b1a9a41",
   "metadata": {},
   "outputs": [],
   "source": [
    "#importances per feature"
   ]
  },
  {
   "cell_type": "code",
   "execution_count": null,
   "id": "b0bf5dbe-d2cd-4600-8f14-7cc9dcdbfc28",
   "metadata": {},
   "outputs": [],
   "source": []
  },
  {
   "cell_type": "code",
   "execution_count": null,
   "id": "fc608aec-f560-4ce7-a354-4be479d446f8",
   "metadata": {},
   "outputs": [],
   "source": []
  }
 ],
 "metadata": {
  "kernelspec": {
   "display_name": "Python 3 (ipykernel)",
   "language": "python",
   "name": "python3"
  },
  "language_info": {
   "codemirror_mode": {
    "name": "ipython",
    "version": 3
   },
   "file_extension": ".py",
   "mimetype": "text/x-python",
   "name": "python",
   "nbconvert_exporter": "python",
   "pygments_lexer": "ipython3",
   "version": "3.9.12"
  },
  "toc-autonumbering": true,
  "toc-showcode": true,
  "toc-showmarkdowntxt": true,
  "toc-showtags": true
 },
 "nbformat": 4,
 "nbformat_minor": 5
}
