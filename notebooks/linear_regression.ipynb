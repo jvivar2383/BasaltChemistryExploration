{
 "cells": [
  {
   "cell_type": "code",
   "execution_count": 1,
   "id": "c5fa93a5-9a71-4551-ad3e-0e8076999b5d",
   "metadata": {},
   "outputs": [],
   "source": [
    "import pandas as pd\n",
    "import seaborn as sns\n",
    "import numpy as np\n",
    "import matplotlib.pyplot as plt"
   ]
  },
  {
   "cell_type": "code",
   "execution_count": 7,
   "id": "e5612f71-5461-4a05-ad81-4cd6ad1b735a",
   "metadata": {},
   "outputs": [
    {
     "name": "stdout",
     "output_type": "stream",
     "text": [
      "[[1. 0. 0.]\n",
      " [1. 0. 0.]\n",
      " [1. 0. 0.]\n",
      " ...\n",
      " [0. 1. 0.]\n",
      " [0. 1. 0.]\n",
      " [0. 1. 0.]]\n",
      "['IAB']\n"
     ]
    }
   ],
   "source": [
    "from sklearn.preprocessing import OneHotEncoder\n",
    "from sklearn.preprocessing import LabelEncoder\n",
    "label_encoder = LabelEncoder()\n",
    "\n",
    "\n",
    "binary_val = label_encoder.fit_transform(sampled_df[\"Tectonic_setting\"])\n",
    "onehot_encoder = OneHotEncoder(sparse=False)\n",
    "integer_encoded = binary_val.reshape(len(binary_val), 1)\n",
    "onehot_encoded = onehot_encoder.fit_transform(integer_encoded)\n",
    "print(onehot_encoded)\n",
    "# invert first example\n",
    "inverted = label_encoder.inverse_transform([np.argmax(onehot_encoded[0, :])])\n",
    "print(inverted)"
   ]
  },
  {
   "cell_type": "code",
   "execution_count": 8,
   "id": "cb65a133-7a5a-4857-9e54-55b1aa53131a",
   "metadata": {},
   "outputs": [],
   "source": [
    "#load data\n",
    "p = \"/Users/jenifervivar/Documents/GitHub/OceanBasaltML/basalts thesis/src/data/variables_target_file\"\n",
    "sampled_df = pd.read_csv(p)\n",
    "col = sampled_df.columns[:-3].values\n",
    "\n",
    "#standarired data\n",
    "from sklearn.preprocessing import StandardScaler\n",
    "scaler = StandardScaler()\n",
    "x_standard = scaler.fit_transform(sampled_df[col])\n",
    "sampled_df[col] = x_standard\n",
    "\n",
    "#split data for testing and training\n",
    "from sklearn.model_selection import train_test_split\n",
    "# X = sampled_df[col], y = sampled_df[\"Tectonic_setting\"]\n",
    "X_train, X_test, y_train, y_test = train_test_split(sampled_df[col],onehot_encoded,\\\n",
    "                                                    test_size=0.3, random_state=100)\n",
    "#balance the data\n",
    "from imblearn.over_sampling import RandomOverSampler\n",
    "over_sampler = RandomOverSampler(random_state=42)\n",
    "X_bal, y_bal = over_sampler.fit_resample(X_train, y_train)"
   ]
  },
  {
   "cell_type": "code",
   "execution_count": 21,
   "id": "f21f94e3-92db-4085-9b47-b7ab68be630b",
   "metadata": {},
   "outputs": [
    {
     "data": {
      "text/plain": [
       "array([[0., 1., 0.],\n",
       "       [1., 0., 0.],\n",
       "       [1., 0., 0.],\n",
       "       ...,\n",
       "       [1., 0., 0.],\n",
       "       [0., 1., 0.],\n",
       "       [0., 1., 0.]])"
      ]
     },
     "execution_count": 21,
     "metadata": {},
     "output_type": "execute_result"
    }
   ],
   "source": [
    "y_train"
   ]
  },
  {
   "cell_type": "code",
   "execution_count": 22,
   "id": "101e6d68-332e-4fde-b95c-2e5dfc5c4dd6",
   "metadata": {},
   "outputs": [
    {
     "data": {
      "text/plain": [
       "array([[0., 0., 1.],\n",
       "       [0., 0., 1.],\n",
       "       [1., 0., 0.],\n",
       "       ...,\n",
       "       [1., 0., 0.],\n",
       "       [1., 0., 0.],\n",
       "       [0., 1., 0.]])"
      ]
     },
     "execution_count": 22,
     "metadata": {},
     "output_type": "execute_result"
    }
   ],
   "source": [
    "y_test"
   ]
  },
  {
   "cell_type": "code",
   "execution_count": 10,
   "id": "2d60728f-552c-4cd3-b598-58399c3614c6",
   "metadata": {},
   "outputs": [
    {
     "name": "stdout",
     "output_type": "stream",
     "text": [
      "[[ 0.01727467  0.15260353  0.8301218 ]\n",
      " [ 0.17953138  0.10565506  0.71481356]\n",
      " [ 0.76259343  0.37547092 -0.13806434]\n",
      " ...\n",
      " [ 0.91943661 -0.18493667  0.26550006]\n",
      " [ 0.97543857  0.00461305  0.01994838]\n",
      " [ 0.55807585  0.41989802  0.02202612]]\n"
     ]
    }
   ],
   "source": [
    "from sklearn.linear_model import LinearRegression\n",
    "slr = LinearRegression()\n",
    "slr.fit(X_train, y_train)\n",
    "y_pred = slr.predict(X_test)\n"
   ]
  },
  {
   "cell_type": "code",
   "execution_count": 25,
   "id": "d4af5f49-2944-4c4c-9163-f5621943cde8",
   "metadata": {},
   "outputs": [
    {
     "data": {
      "text/plain": [
       "array([[0., 0., 1.],\n",
       "       [0., 0., 1.],\n",
       "       [1., 0., 0.],\n",
       "       ...,\n",
       "       [1., 0., 0.],\n",
       "       [1., 0., 0.],\n",
       "       [1., 0., 0.]])"
      ]
     },
     "execution_count": 25,
     "metadata": {},
     "output_type": "execute_result"
    }
   ],
   "source": [
    "y_pred_ = abs(np.round(y_pred))\n",
    "y_pred_"
   ]
  },
  {
   "cell_type": "code",
   "execution_count": 11,
   "id": "e2eb349b-892e-4948-bf99-62dd172cbe97",
   "metadata": {},
   "outputs": [
    {
     "data": {
      "text/plain": [
       "array([[-0.11810759, -0.23391655, -0.00558249, -0.00340658, -0.01602946,\n",
       "        -0.07211355, -0.16887983,  0.02063751, -0.08134647,  0.1065502 ,\n",
       "         0.00546989,  0.12580653, -0.08646502, -0.1291791 , -0.09298642,\n",
       "        -0.00594465,  0.19783065, -0.19083212, -0.38549694,  0.03870091,\n",
       "         0.15583801, -0.0758184 ,  0.01617144,  0.04647016, -0.00538494,\n",
       "        -0.1518446 , -0.19369231,  0.0974672 ,  0.14277044,  0.4086264 ,\n",
       "         0.15861394, -0.07758004, -0.00585939,  0.03045811,  0.01521158,\n",
       "        -0.16458875],\n",
       "       [ 0.07598682,  0.07505633,  0.01897254, -0.05935302,  0.00875728,\n",
       "         0.14682695,  0.11791401,  0.03237318, -0.02736405,  0.03804537,\n",
       "         0.02401557, -0.07563468, -0.02589081,  0.02251189,  0.12069302,\n",
       "         0.00129597, -0.07849347, -0.01357993,  0.79590583, -0.25227671,\n",
       "        -0.17915581,  0.13905453, -0.07445441, -0.06706242, -0.06203579,\n",
       "         0.09252697,  0.28881742, -0.10965552,  0.13487364, -0.70757473,\n",
       "        -0.09681608, -0.20446788,  0.03679766, -0.00805897, -0.04704257,\n",
       "         0.05015824],\n",
       "       [ 0.04212077,  0.15886023, -0.01339005,  0.0627596 ,  0.00727218,\n",
       "        -0.0747134 ,  0.05096581, -0.05301068,  0.10871053, -0.14459557,\n",
       "        -0.02948546, -0.05017185,  0.11235583,  0.10666721, -0.0277066 ,\n",
       "         0.00464868, -0.11933717,  0.20441205, -0.41040889,  0.2135758 ,\n",
       "         0.02331781, -0.06323613,  0.05828297,  0.02059226,  0.06742072,\n",
       "         0.05931762, -0.09512511,  0.01218832, -0.27764408,  0.29894833,\n",
       "        -0.06179787,  0.28204793, -0.03093827, -0.02239914,  0.03183099,\n",
       "         0.11443051]])"
      ]
     },
     "execution_count": 11,
     "metadata": {},
     "output_type": "execute_result"
    }
   ],
   "source": [
    "coef = slr.coef_\n",
    "coef"
   ]
  },
  {
   "cell_type": "code",
   "execution_count": 63,
   "id": "5a3ca440-d9fb-402b-a5c5-311e100127c1",
   "metadata": {
    "tags": []
   },
   "outputs": [
    {
     "data": {
      "text/plain": [
       "array([['OIB'],\n",
       "       ['OIB'],\n",
       "       ['IAB'],\n",
       "       ...,\n",
       "       ['IAB'],\n",
       "       ['IAB'],\n",
       "       ['IAB']], dtype=object)"
      ]
     },
     "execution_count": 63,
     "metadata": {},
     "output_type": "execute_result"
    }
   ],
   "source": [
    "#inverted = label_encoder.inverse_transform([np.argmax(y_pred_[i,:])])\n",
    "\n",
    "predicted_inve = np.array([label_encoder.inverse_transform([np.argmax(y_pred_[i,:])]) for i in range(len(y_pred_))])\n",
    "predicted_inve"
   ]
  },
  {
   "cell_type": "code",
   "execution_count": 65,
   "id": "3e77570c-7f79-4381-aaac-a570fcf7dfee",
   "metadata": {},
   "outputs": [],
   "source": [
    "test_inverted =  np.array([label_encoder.inverse_transform([np.argmax(y_test[i,:])]) for i in range(len(y_test))])"
   ]
  },
  {
   "cell_type": "code",
   "execution_count": 66,
   "id": "a6bec178-64fa-4537-ac57-83df1f332caf",
   "metadata": {},
   "outputs": [
    {
     "data": {
      "text/plain": [
       "array([['OIB'],\n",
       "       ['OIB'],\n",
       "       ['IAB'],\n",
       "       ...,\n",
       "       ['IAB'],\n",
       "       ['IAB'],\n",
       "       ['MORB']], dtype=object)"
      ]
     },
     "execution_count": 66,
     "metadata": {},
     "output_type": "execute_result"
    }
   ],
   "source": [
    "test_inverted"
   ]
  },
  {
   "cell_type": "code",
   "execution_count": 67,
   "id": "c7078f8c-4724-4a51-9ad9-d42fde78be70",
   "metadata": {},
   "outputs": [
    {
     "name": "stdout",
     "output_type": "stream",
     "text": [
      "              precision    recall  f1-score   support\n",
      "\n",
      "         IAB       0.76      0.94      0.84      1003\n",
      "        MORB       0.81      0.37      0.51       328\n",
      "         OIB       0.89      0.78      0.83       580\n",
      "\n",
      "    accuracy                           0.80      1911\n",
      "   macro avg       0.82      0.70      0.73      1911\n",
      "weighted avg       0.81      0.80      0.78      1911\n",
      "\n"
     ]
    }
   ],
   "source": [
    "from sklearn.metrics import classification_report\n",
    "print(classification_report(test_inverted, predicted_inve))"
   ]
  },
  {
   "cell_type": "code",
   "execution_count": 79,
   "id": "c272d303-8d86-4256-8c07-149f9688671f",
   "metadata": {},
   "outputs": [
    {
     "data": {
      "text/plain": [
       "array([29, 16, 30, 20, 28, 11,  9, 27, 23, 19, 33,  7, 22, 34, 10,  3, 24,\n",
       "        2, 32, 15,  4,  5, 21, 31,  8, 12, 14,  0, 13, 25, 35,  6, 17, 26,\n",
       "        1, 18])"
      ]
     },
     "execution_count": 79,
     "metadata": {},
     "output_type": "execute_result"
    }
   ],
   "source": [
    "idx = np.argsort(coef[0])[::-1]\n",
    "idx"
   ]
  },
  {
   "cell_type": "code",
   "execution_count": 80,
   "id": "c07e1da1-cd4b-4a05-8a7e-3adbd7cd29f4",
   "metadata": {},
   "outputs": [
    {
     "data": {
      "image/png": "[encoded data removed]",
      "text/plain": [
       "<Figure size 720x576 with 1 Axes>"
      ]
     },
     "metadata": {
      "needs_background": "light"
     },
     "output_type": "display_data"
    }
   ],
   "source": [
    "Y = list(zip(coef[0], sampled_df.columns[:-3]))\n",
    "plt.figure(figsize=(10,8))\n",
    "plt.bar(sampled_df.columns[:-3][idx], coef[0][idx])\n",
    "plt.title(\"Coefficients for IAB \\n\")\n",
    "plt.xticks(rotation = 90)\n",
    "plt.show()"
   ]
  },
  {
   "cell_type": "code",
   "execution_count": 81,
   "id": "f9933375-0ede-4327-8f0b-07f2907ab5a3",
   "metadata": {},
   "outputs": [
    {
     "data": {
      "text/plain": [
       "array([18, 26,  5, 21, 28, 14,  6, 25,  0,  1, 35,  9, 32,  7, 10, 13,  2,\n",
       "        4, 15, 33, 17, 12,  8, 34,  3, 24, 23, 22, 11, 16, 30, 27, 20, 31,\n",
       "       19, 29])"
      ]
     },
     "execution_count": 81,
     "metadata": {},
     "output_type": "execute_result"
    }
   ],
   "source": [
    "idx = np.argsort(coef[1])[::-1]\n",
    "idx"
   ]
  },
  {
   "cell_type": "code",
   "execution_count": 83,
   "id": "881fe357-8c58-48f2-b95d-5cdb6ee2b651",
   "metadata": {},
   "outputs": [
    {
     "data": {
      "image/png": "[encoded data removed]",
      "text/plain": [
       "<Figure size 720x576 with 1 Axes>"
      ]
     },
     "metadata": {
      "needs_background": "light"
     },
     "output_type": "display_data"
    }
   ],
   "source": [
    "Y = list(zip(coef[1], sampled_df.columns[:-3]))\n",
    "plt.figure(figsize=(10,8))\n",
    "plt.bar(sampled_df.columns[:-3][idx], coef[1][idx])\n",
    "plt.title(\"Coefficients for MORB \\n\")\n",
    "plt.xticks(rotation = 90)\n",
    "plt.show()"
   ]
  },
  {
   "cell_type": "code",
   "execution_count": 84,
   "id": "77b2e1a6-6839-497c-b97d-34542b8942b1",
   "metadata": {},
   "outputs": [
    {
     "data": {
      "text/plain": [
       "array([29, 31, 19, 17,  1, 35, 12,  8, 13, 24,  3, 25, 22,  6,  0, 34, 20,\n",
       "       23, 27,  4, 15,  2, 33, 14, 10, 32, 11,  7, 30, 21,  5, 26, 16,  9,\n",
       "       28, 18])"
      ]
     },
     "execution_count": 84,
     "metadata": {},
     "output_type": "execute_result"
    }
   ],
   "source": [
    "idx = np.argsort(coef[2])[::-1]\n",
    "idx"
   ]
  },
  {
   "cell_type": "code",
   "execution_count": 85,
   "id": "6425aee8-fe0a-4544-8f8f-aacd54164e50",
   "metadata": {},
   "outputs": [
    {
     "data": {
      "image/png": "[encoded data removed]",
      "text/plain": [
       "<Figure size 720x576 with 1 Axes>"
      ]
     },
     "metadata": {
      "needs_background": "light"
     },
     "output_type": "display_data"
    }
   ],
   "source": [
    "Y = list(zip(coef[2], sampled_df.columns[:-3]))\n",
    "plt.figure(figsize=(10,8))\n",
    "plt.bar(sampled_df.columns[:-3][idx], coef[2][idx])\n",
    "plt.title(\"Coefficients for OIB \\n\")\n",
    "plt.xticks(rotation = 90)\n",
    "plt.show()"
   ]
  },
  {
   "cell_type": "code",
   "execution_count": 76,
   "id": "27d28448-e699-4d33-adf7-84ac4f4ffe98",
   "metadata": {},
   "outputs": [
    {
     "data": {
      "text/plain": [
       "array([243.55374109, 161.39677495, 134.77836482, 113.97582236,\n",
       "        94.13833872,  71.04017475,  69.79995063,  56.27225725,\n",
       "        53.22436049,  41.64121419,  38.39297861,  37.51663054,\n",
       "        34.92808139,  33.39288224,  29.05298669,  27.48180731,\n",
       "        25.57368546,  23.51144504,  21.25469495,  20.05026762,\n",
       "        19.04960178,  17.48704629,  14.89479039,  14.45766752,\n",
       "        14.27074643,  12.7233899 ,   9.58359514,   8.87161355,\n",
       "         7.6518415 ,   7.55827194,   6.549636  ,   6.27700793,\n",
       "         5.86114804,   5.12504279,   4.681212  ,   1.97090284])"
      ]
     },
     "execution_count": 76,
     "metadata": {},
     "output_type": "execute_result"
    }
   ],
   "source": [
    "slr.singular_"
   ]
  },
  {
   "cell_type": "code",
   "execution_count": 73,
   "id": "90048217-4297-49de-acad-7ad73b00fe0e",
   "metadata": {},
   "outputs": [
    {
     "data": {
      "image/png": "[encoded data removed]",
      "text/plain": [
       "<Figure size 720x576 with 1 Axes>"
      ]
     },
     "metadata": {
      "needs_background": "light"
     },
     "output_type": "display_data"
    }
   ],
   "source": [
    "\n",
    "plt.figure(figsize=(10,8))\n",
    "plt.bar(sampled_df.columns[:-3], slr.singular_)\n",
    "plt.title(\"Coefficients for OIB \\n\")\n",
    "plt.xticks(rotation = 90)\n",
    "plt.show()"
   ]
  },
  {
   "cell_type": "code",
   "execution_count": 74,
   "id": "69b7d2c0-cb15-4909-ae2c-f96e4b8b0a12",
   "metadata": {},
   "outputs": [
    {
     "data": {
      "text/plain": [
       "Index(['SiO2', 'TiO2', 'Al2O3', 'FeOT', 'MnO', 'MgO', 'CaO', 'Na2O', 'K2O',\n",
       "       'P2O5', 'Rb', 'Sr', 'Y', 'Zr', 'Nb', 'Ba', 'La', 'Ce', 'Pr', 'Nd', 'Sm',\n",
       "       'Eu', 'Gd', 'Tb', 'Dy', 'Ho', 'Er', 'Tm', 'Yb', 'Lu', 'Hf', 'Ta', 'Th',\n",
       "       'U', 'Cr', 'Ni', 'LATITUDE', 'LONGITUDE', 'Tectonic_setting'],\n",
       "      dtype='object')"
      ]
     },
     "execution_count": 74,
     "metadata": {},
     "output_type": "execute_result"
    }
   ],
   "source": [
    "sampled_df.columns"
   ]
  },
  {
   "cell_type": "code",
   "execution_count": null,
   "id": "2613eb7a-3fb6-4969-86f6-82476d5e868a",
   "metadata": {},
   "outputs": [],
   "source": [
    "features = [\"SiO2\", \"TiO2\", \"Al2O3\", \"FeOT\", \"MnO\",\"MgO\", \"CaO\", \"Na2O\"]"
   ]
  }
 ],
 "metadata": {
  "kernelspec": {
   "display_name": "Python 3 (ipykernel)",
   "language": "python",
   "name": "python3"
  },
  "language_info": {
   "codemirror_mode": {
    "name": "ipython",
    "version": 3
   },
   "file_extension": ".py",
   "mimetype": "text/x-python",
   "name": "python",
   "nbconvert_exporter": "python",
   "pygments_lexer": "ipython3",
   "version": "3.9.12"
  }
 },
 "nbformat": 4,
 "nbformat_minor": 5
}
